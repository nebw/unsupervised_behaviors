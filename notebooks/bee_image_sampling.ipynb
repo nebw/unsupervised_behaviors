{
 "cells": [
  {
   "cell_type": "code",
   "execution_count": null,
   "metadata": {},
   "outputs": [],
   "source": [
    "import matplotlib.pyplot as plt\n",
    "\n",
    "import pathlib\n",
    "\n",
    "import numpy as np\n",
    "import pandas as pd\n",
    "import tqdm.auto as tqdm\n",
    "\n",
    "import unsupervised_behaviors\n",
    "import unsupervised_behaviors.data\n",
    "\n",
    "import bb_behavior\n",
    "import bb_behavior.db"
   ]
  },
  {
   "cell_type": "code",
   "execution_count": null,
   "metadata": {},
   "outputs": [],
   "source": [
    "video_root = pathlib.Path(\"/home/ben/ssh/trove/beesbook/2019/hd_recording/\")"
   ]
  },
  {
   "cell_type": "code",
   "execution_count": null,
   "metadata": {},
   "outputs": [],
   "source": [
    "bb_behavior.db.base.set_season_berlin_2019()"
   ]
  },
  {
   "cell_type": "code",
   "execution_count": null,
   "metadata": {},
   "outputs": [],
   "source": [
    "frame_ids = unsupervised_behaviors.data.get_random_initial_frames(num_frames=2)"
   ]
  },
  {
   "cell_type": "code",
   "execution_count": null,
   "metadata": {},
   "outputs": [],
   "source": [
    "detections = bb_behavior.db.get_detections_dataframe_for_frames(\n",
    "    frame_ids,\n",
    "    use_hive_coordinates=False,\n",
    "    additional_columns=[\"detection_type\"],\n",
    "    confidence_threshold=0,\n",
    ")"
   ]
  },
  {
   "cell_type": "code",
   "execution_count": null,
   "metadata": {},
   "outputs": [],
   "source": [
    "images, masks, loss_masks = unsupervised_behaviors.data.get_image_and_mask_for_detections(detections, video_path=video_root)"
   ]
  },
  {
   "cell_type": "code",
   "execution_count": null,
   "metadata": {},
   "outputs": [],
   "source": [
    "image_idx = 0\n",
    "\n",
    "fig, axes = plt.subplots(1, 2, figsize=(12, 6))\n",
    "axes[0].imshow(\n",
    "    images[image_idx] * 0.25 + 0.75 * images[image_idx] * masks[image_idx],\n",
    "    cmap=plt.cm.gray,\n",
    ")\n",
    "axes[1].imshow(\n",
    "    images[image_idx] * 0.25 + 0.75 * images[image_idx] * loss_masks[image_idx],\n",
    "    cmap=plt.cm.gray,\n",
    ")\n",
    "axes[0].set_title(\"Tag mask\")\n",
    "axes[1].set_title(\"Loss mask\")"
   ]
  },
  {
   "cell_type": "code",
   "execution_count": null,
   "metadata": {},
   "outputs": [],
   "source": [
    "np.savez_compressed(\n",
    "    \"/home/ben/data/tag_images_64_lossmask_clahe_masked_2019\",\n",
    "    (images, masks, loss_masks),\n",
    ")"
   ]
  }
 ],
 "metadata": {
  "kernelspec": {
   "display_name": "Python 3 (system)",
   "language": "python",
   "name": "system"
  },
  "language_info": {
   "codemirror_mode": {
    "name": "ipython",
    "version": 3
   },
   "file_extension": ".py",
   "mimetype": "text/x-python",
   "name": "python",
   "nbconvert_exporter": "python",
   "pygments_lexer": "ipython3",
   "version": "3.8.6"
  }
 },
 "nbformat": 4,
 "nbformat_minor": 4
}
